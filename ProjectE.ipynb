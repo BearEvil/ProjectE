{
 "cells": [
  {
   "cell_type": "code",
   "execution_count": 1,
   "id": "db1fce62-feb9-4f4f-a7cd-3309d005da65",
   "metadata": {},
   "outputs": [],
   "source": [
    "import pandas as pd\n",
    "import numpy as np\n",
    "from sklearn.compose import make_column_selector as selector\n",
    "from sklearn.preprocessing import OneHotEncoder, StandardScaler\n",
    "from sklearn.compose import ColumnTransformer\n",
    "from sklearn import linear_model\n",
    "from sklearn.ensemble import RandomForestRegressor\n",
    "from sklearn.pipeline import make_pipeline\n",
    "from sklearn.metrics import r2_score"
   ]
  },
  {
   "cell_type": "code",
   "execution_count": 2,
   "id": "d6223c1f-89b8-4c79-bab1-bf56e36fc7f7",
   "metadata": {},
   "outputs": [],
   "source": [
    "data = pd.read_csv(\"sp500_stocks.csv\", low_memory=False)\n",
    "columns = data.columns.tolist()"
   ]
  },
  {
   "cell_type": "code",
   "execution_count": 3,
   "id": "378375a4-2c16-40d6-b708-c94a67524ed1",
   "metadata": {},
   "outputs": [
    {
     "data": {
      "text/html": [
       "<div>\n",
       "<style scoped>\n",
       "    .dataframe tbody tr th:only-of-type {\n",
       "        vertical-align: middle;\n",
       "    }\n",
       "\n",
       "    .dataframe tbody tr th {\n",
       "        vertical-align: top;\n",
       "    }\n",
       "\n",
       "    .dataframe thead th {\n",
       "        text-align: right;\n",
       "    }\n",
       "</style>\n",
       "<table border=\"1\" class=\"dataframe\">\n",
       "  <thead>\n",
       "    <tr style=\"text-align: right;\">\n",
       "      <th></th>\n",
       "      <th>Date</th>\n",
       "      <th>Symbol</th>\n",
       "      <th>Adj Close</th>\n",
       "      <th>Close</th>\n",
       "      <th>High</th>\n",
       "      <th>Low</th>\n",
       "      <th>Open</th>\n",
       "      <th>Volume</th>\n",
       "    </tr>\n",
       "  </thead>\n",
       "  <tbody>\n",
       "    <tr>\n",
       "      <th>0</th>\n",
       "      <td>2010-01-04</td>\n",
       "      <td>MMM</td>\n",
       "      <td>59.318886</td>\n",
       "      <td>83.019997</td>\n",
       "      <td>83.449997</td>\n",
       "      <td>82.669998</td>\n",
       "      <td>83.089996</td>\n",
       "      <td>3043700.0</td>\n",
       "    </tr>\n",
       "    <tr>\n",
       "      <th>1</th>\n",
       "      <td>2010-01-05</td>\n",
       "      <td>MMM</td>\n",
       "      <td>58.947342</td>\n",
       "      <td>82.500000</td>\n",
       "      <td>83.230003</td>\n",
       "      <td>81.699997</td>\n",
       "      <td>82.800003</td>\n",
       "      <td>2847000.0</td>\n",
       "    </tr>\n",
       "    <tr>\n",
       "      <th>2</th>\n",
       "      <td>2010-01-06</td>\n",
       "      <td>MMM</td>\n",
       "      <td>59.783295</td>\n",
       "      <td>83.669998</td>\n",
       "      <td>84.599998</td>\n",
       "      <td>83.510002</td>\n",
       "      <td>83.879997</td>\n",
       "      <td>5268500.0</td>\n",
       "    </tr>\n",
       "    <tr>\n",
       "      <th>3</th>\n",
       "      <td>2010-01-07</td>\n",
       "      <td>MMM</td>\n",
       "      <td>59.826176</td>\n",
       "      <td>83.730003</td>\n",
       "      <td>83.760002</td>\n",
       "      <td>82.120003</td>\n",
       "      <td>83.320000</td>\n",
       "      <td>4470100.0</td>\n",
       "    </tr>\n",
       "    <tr>\n",
       "      <th>4</th>\n",
       "      <td>2010-01-08</td>\n",
       "      <td>MMM</td>\n",
       "      <td>60.247749</td>\n",
       "      <td>84.320000</td>\n",
       "      <td>84.320000</td>\n",
       "      <td>83.300003</td>\n",
       "      <td>83.690002</td>\n",
       "      <td>3405800.0</td>\n",
       "    </tr>\n",
       "    <tr>\n",
       "      <th>...</th>\n",
       "      <td>...</td>\n",
       "      <td>...</td>\n",
       "      <td>...</td>\n",
       "      <td>...</td>\n",
       "      <td>...</td>\n",
       "      <td>...</td>\n",
       "      <td>...</td>\n",
       "      <td>...</td>\n",
       "    </tr>\n",
       "    <tr>\n",
       "      <th>1643799</th>\n",
       "      <td>2022-12-19</td>\n",
       "      <td>ZTS</td>\n",
       "      <td>143.190002</td>\n",
       "      <td>143.190002</td>\n",
       "      <td>144.440002</td>\n",
       "      <td>142.009995</td>\n",
       "      <td>143.839996</td>\n",
       "      <td>1833700.0</td>\n",
       "    </tr>\n",
       "    <tr>\n",
       "      <th>1643800</th>\n",
       "      <td>2022-12-20</td>\n",
       "      <td>ZTS</td>\n",
       "      <td>142.470001</td>\n",
       "      <td>142.470001</td>\n",
       "      <td>143.100006</td>\n",
       "      <td>140.759995</td>\n",
       "      <td>142.710007</td>\n",
       "      <td>2045900.0</td>\n",
       "    </tr>\n",
       "    <tr>\n",
       "      <th>1643801</th>\n",
       "      <td>2022-12-21</td>\n",
       "      <td>ZTS</td>\n",
       "      <td>144.919998</td>\n",
       "      <td>144.919998</td>\n",
       "      <td>146.149994</td>\n",
       "      <td>142.779999</td>\n",
       "      <td>143.220001</td>\n",
       "      <td>1647500.0</td>\n",
       "    </tr>\n",
       "    <tr>\n",
       "      <th>1643802</th>\n",
       "      <td>2022-12-22</td>\n",
       "      <td>ZTS</td>\n",
       "      <td>145.029999</td>\n",
       "      <td>145.029999</td>\n",
       "      <td>145.100006</td>\n",
       "      <td>141.850006</td>\n",
       "      <td>143.710007</td>\n",
       "      <td>1541800.0</td>\n",
       "    </tr>\n",
       "    <tr>\n",
       "      <th>1643803</th>\n",
       "      <td>2022-12-23</td>\n",
       "      <td>ZTS</td>\n",
       "      <td>145.759995</td>\n",
       "      <td>145.759995</td>\n",
       "      <td>145.889999</td>\n",
       "      <td>143.539993</td>\n",
       "      <td>144.509995</td>\n",
       "      <td>1017600.0</td>\n",
       "    </tr>\n",
       "  </tbody>\n",
       "</table>\n",
       "<p>1643804 rows × 8 columns</p>\n",
       "</div>"
      ],
      "text/plain": [
       "               Date Symbol   Adj Close       Close        High         Low  \\\n",
       "0        2010-01-04    MMM   59.318886   83.019997   83.449997   82.669998   \n",
       "1        2010-01-05    MMM   58.947342   82.500000   83.230003   81.699997   \n",
       "2        2010-01-06    MMM   59.783295   83.669998   84.599998   83.510002   \n",
       "3        2010-01-07    MMM   59.826176   83.730003   83.760002   82.120003   \n",
       "4        2010-01-08    MMM   60.247749   84.320000   84.320000   83.300003   \n",
       "...             ...    ...         ...         ...         ...         ...   \n",
       "1643799  2022-12-19    ZTS  143.190002  143.190002  144.440002  142.009995   \n",
       "1643800  2022-12-20    ZTS  142.470001  142.470001  143.100006  140.759995   \n",
       "1643801  2022-12-21    ZTS  144.919998  144.919998  146.149994  142.779999   \n",
       "1643802  2022-12-22    ZTS  145.029999  145.029999  145.100006  141.850006   \n",
       "1643803  2022-12-23    ZTS  145.759995  145.759995  145.889999  143.539993   \n",
       "\n",
       "               Open     Volume  \n",
       "0         83.089996  3043700.0  \n",
       "1         82.800003  2847000.0  \n",
       "2         83.879997  5268500.0  \n",
       "3         83.320000  4470100.0  \n",
       "4         83.690002  3405800.0  \n",
       "...             ...        ...  \n",
       "1643799  143.839996  1833700.0  \n",
       "1643800  142.710007  2045900.0  \n",
       "1643801  143.220001  1647500.0  \n",
       "1643802  143.710007  1541800.0  \n",
       "1643803  144.509995  1017600.0  \n",
       "\n",
       "[1643804 rows x 8 columns]"
      ]
     },
     "metadata": {},
     "output_type": "display_data"
    }
   ],
   "source": [
    "display(data)"
   ]
  },
  {
   "cell_type": "code",
   "execution_count": 4,
   "id": "c9bb645f-0fd1-415f-b712-1e0acc34e10e",
   "metadata": {},
   "outputs": [],
   "source": [
    "data.drop(inplace = True, columns = ['Date','Adj Close'])"
   ]
  },
  {
   "cell_type": "code",
   "execution_count": 5,
   "id": "0fa3b268-d380-486e-8f93-0430eb521de6",
   "metadata": {},
   "outputs": [
    {
     "data": {
      "text/html": [
       "<div>\n",
       "<style scoped>\n",
       "    .dataframe tbody tr th:only-of-type {\n",
       "        vertical-align: middle;\n",
       "    }\n",
       "\n",
       "    .dataframe tbody tr th {\n",
       "        vertical-align: top;\n",
       "    }\n",
       "\n",
       "    .dataframe thead th {\n",
       "        text-align: right;\n",
       "    }\n",
       "</style>\n",
       "<table border=\"1\" class=\"dataframe\">\n",
       "  <thead>\n",
       "    <tr style=\"text-align: right;\">\n",
       "      <th></th>\n",
       "      <th>Symbol</th>\n",
       "      <th>Close</th>\n",
       "      <th>High</th>\n",
       "      <th>Low</th>\n",
       "      <th>Open</th>\n",
       "      <th>Volume</th>\n",
       "    </tr>\n",
       "  </thead>\n",
       "  <tbody>\n",
       "    <tr>\n",
       "      <th>0</th>\n",
       "      <td>MMM</td>\n",
       "      <td>83.019997</td>\n",
       "      <td>83.449997</td>\n",
       "      <td>82.669998</td>\n",
       "      <td>83.089996</td>\n",
       "      <td>3043700.0</td>\n",
       "    </tr>\n",
       "    <tr>\n",
       "      <th>1</th>\n",
       "      <td>MMM</td>\n",
       "      <td>82.500000</td>\n",
       "      <td>83.230003</td>\n",
       "      <td>81.699997</td>\n",
       "      <td>82.800003</td>\n",
       "      <td>2847000.0</td>\n",
       "    </tr>\n",
       "    <tr>\n",
       "      <th>2</th>\n",
       "      <td>MMM</td>\n",
       "      <td>83.669998</td>\n",
       "      <td>84.599998</td>\n",
       "      <td>83.510002</td>\n",
       "      <td>83.879997</td>\n",
       "      <td>5268500.0</td>\n",
       "    </tr>\n",
       "    <tr>\n",
       "      <th>3</th>\n",
       "      <td>MMM</td>\n",
       "      <td>83.730003</td>\n",
       "      <td>83.760002</td>\n",
       "      <td>82.120003</td>\n",
       "      <td>83.320000</td>\n",
       "      <td>4470100.0</td>\n",
       "    </tr>\n",
       "    <tr>\n",
       "      <th>4</th>\n",
       "      <td>MMM</td>\n",
       "      <td>84.320000</td>\n",
       "      <td>84.320000</td>\n",
       "      <td>83.300003</td>\n",
       "      <td>83.690002</td>\n",
       "      <td>3405800.0</td>\n",
       "    </tr>\n",
       "    <tr>\n",
       "      <th>...</th>\n",
       "      <td>...</td>\n",
       "      <td>...</td>\n",
       "      <td>...</td>\n",
       "      <td>...</td>\n",
       "      <td>...</td>\n",
       "      <td>...</td>\n",
       "    </tr>\n",
       "    <tr>\n",
       "      <th>1643799</th>\n",
       "      <td>ZTS</td>\n",
       "      <td>143.190002</td>\n",
       "      <td>144.440002</td>\n",
       "      <td>142.009995</td>\n",
       "      <td>143.839996</td>\n",
       "      <td>1833700.0</td>\n",
       "    </tr>\n",
       "    <tr>\n",
       "      <th>1643800</th>\n",
       "      <td>ZTS</td>\n",
       "      <td>142.470001</td>\n",
       "      <td>143.100006</td>\n",
       "      <td>140.759995</td>\n",
       "      <td>142.710007</td>\n",
       "      <td>2045900.0</td>\n",
       "    </tr>\n",
       "    <tr>\n",
       "      <th>1643801</th>\n",
       "      <td>ZTS</td>\n",
       "      <td>144.919998</td>\n",
       "      <td>146.149994</td>\n",
       "      <td>142.779999</td>\n",
       "      <td>143.220001</td>\n",
       "      <td>1647500.0</td>\n",
       "    </tr>\n",
       "    <tr>\n",
       "      <th>1643802</th>\n",
       "      <td>ZTS</td>\n",
       "      <td>145.029999</td>\n",
       "      <td>145.100006</td>\n",
       "      <td>141.850006</td>\n",
       "      <td>143.710007</td>\n",
       "      <td>1541800.0</td>\n",
       "    </tr>\n",
       "    <tr>\n",
       "      <th>1643803</th>\n",
       "      <td>ZTS</td>\n",
       "      <td>145.759995</td>\n",
       "      <td>145.889999</td>\n",
       "      <td>143.539993</td>\n",
       "      <td>144.509995</td>\n",
       "      <td>1017600.0</td>\n",
       "    </tr>\n",
       "  </tbody>\n",
       "</table>\n",
       "<p>1575307 rows × 6 columns</p>\n",
       "</div>"
      ],
      "text/plain": [
       "        Symbol       Close        High         Low        Open     Volume\n",
       "0          MMM   83.019997   83.449997   82.669998   83.089996  3043700.0\n",
       "1          MMM   82.500000   83.230003   81.699997   82.800003  2847000.0\n",
       "2          MMM   83.669998   84.599998   83.510002   83.879997  5268500.0\n",
       "3          MMM   83.730003   83.760002   82.120003   83.320000  4470100.0\n",
       "4          MMM   84.320000   84.320000   83.300003   83.690002  3405800.0\n",
       "...        ...         ...         ...         ...         ...        ...\n",
       "1643799    ZTS  143.190002  144.440002  142.009995  143.839996  1833700.0\n",
       "1643800    ZTS  142.470001  143.100006  140.759995  142.710007  2045900.0\n",
       "1643801    ZTS  144.919998  146.149994  142.779999  143.220001  1647500.0\n",
       "1643802    ZTS  145.029999  145.100006  141.850006  143.710007  1541800.0\n",
       "1643803    ZTS  145.759995  145.889999  143.539993  144.509995  1017600.0\n",
       "\n",
       "[1575307 rows x 6 columns]"
      ]
     },
     "metadata": {},
     "output_type": "display_data"
    }
   ],
   "source": [
    "data_filtered = data.dropna()\n",
    "display(data_filtered)"
   ]
  },
  {
   "cell_type": "code",
   "execution_count": 6,
   "id": "d2c421c0-3f23-4a01-9ff3-35f2906b7d4f",
   "metadata": {},
   "outputs": [],
   "source": [
    "target = data['Close']\n",
    "data_transformed = data_filtered.drop(columns=['Close'])\n",
    "target.dropna(inplace=True)"
   ]
  },
  {
   "cell_type": "code",
   "execution_count": 7,
   "id": "a3f73143-30d6-4a04-8a8d-e409292dd285",
   "metadata": {},
   "outputs": [],
   "source": [
    "encoder = OneHotEncoder()\n",
    "\n",
    "numerical_columns_selector = selector(dtype_exclude=object)\n",
    "categorical_columns_selector = selector(dtype_include=object)\n",
    "\n",
    "num_columns = numerical_columns_selector(data_transformed)\n",
    "categ_columns = categorical_columns_selector(data_transformed)\n",
    "\n",
    "categorical_preprocessor = OneHotEncoder(handle_unknown=\"ignore\")\n",
    "numerical_preprocessor = StandardScaler()\n",
    "\n",
    "preprocessor = ColumnTransformer(\n",
    "    [('one-hot-encoder', categorical_preprocessor, categ_columns),\n",
    "    ('standard-scaler', numerical_preprocessor, num_columns)]\n",
    ")"
   ]
  },
  {
   "cell_type": "code",
   "execution_count": 8,
   "id": "6b869ea0-03e8-4dfb-a25e-7f65fe2dd1f5",
   "metadata": {},
   "outputs": [
    {
     "data": {
      "text/html": [
       "<div>\n",
       "<style scoped>\n",
       "    .dataframe tbody tr th:only-of-type {\n",
       "        vertical-align: middle;\n",
       "    }\n",
       "\n",
       "    .dataframe tbody tr th {\n",
       "        vertical-align: top;\n",
       "    }\n",
       "\n",
       "    .dataframe thead th {\n",
       "        text-align: right;\n",
       "    }\n",
       "</style>\n",
       "<table border=\"1\" class=\"dataframe\">\n",
       "  <thead>\n",
       "    <tr style=\"text-align: right;\">\n",
       "      <th></th>\n",
       "      <th>Symbol</th>\n",
       "      <th>High</th>\n",
       "      <th>Low</th>\n",
       "      <th>Open</th>\n",
       "      <th>Volume</th>\n",
       "    </tr>\n",
       "  </thead>\n",
       "  <tbody>\n",
       "    <tr>\n",
       "      <th>0</th>\n",
       "      <td>MMM</td>\n",
       "      <td>83.449997</td>\n",
       "      <td>82.669998</td>\n",
       "      <td>83.089996</td>\n",
       "      <td>3043700.0</td>\n",
       "    </tr>\n",
       "    <tr>\n",
       "      <th>1</th>\n",
       "      <td>MMM</td>\n",
       "      <td>83.230003</td>\n",
       "      <td>81.699997</td>\n",
       "      <td>82.800003</td>\n",
       "      <td>2847000.0</td>\n",
       "    </tr>\n",
       "    <tr>\n",
       "      <th>2</th>\n",
       "      <td>MMM</td>\n",
       "      <td>84.599998</td>\n",
       "      <td>83.510002</td>\n",
       "      <td>83.879997</td>\n",
       "      <td>5268500.0</td>\n",
       "    </tr>\n",
       "    <tr>\n",
       "      <th>3</th>\n",
       "      <td>MMM</td>\n",
       "      <td>83.760002</td>\n",
       "      <td>82.120003</td>\n",
       "      <td>83.320000</td>\n",
       "      <td>4470100.0</td>\n",
       "    </tr>\n",
       "    <tr>\n",
       "      <th>4</th>\n",
       "      <td>MMM</td>\n",
       "      <td>84.320000</td>\n",
       "      <td>83.300003</td>\n",
       "      <td>83.690002</td>\n",
       "      <td>3405800.0</td>\n",
       "    </tr>\n",
       "    <tr>\n",
       "      <th>...</th>\n",
       "      <td>...</td>\n",
       "      <td>...</td>\n",
       "      <td>...</td>\n",
       "      <td>...</td>\n",
       "      <td>...</td>\n",
       "    </tr>\n",
       "    <tr>\n",
       "      <th>1643799</th>\n",
       "      <td>ZTS</td>\n",
       "      <td>144.440002</td>\n",
       "      <td>142.009995</td>\n",
       "      <td>143.839996</td>\n",
       "      <td>1833700.0</td>\n",
       "    </tr>\n",
       "    <tr>\n",
       "      <th>1643800</th>\n",
       "      <td>ZTS</td>\n",
       "      <td>143.100006</td>\n",
       "      <td>140.759995</td>\n",
       "      <td>142.710007</td>\n",
       "      <td>2045900.0</td>\n",
       "    </tr>\n",
       "    <tr>\n",
       "      <th>1643801</th>\n",
       "      <td>ZTS</td>\n",
       "      <td>146.149994</td>\n",
       "      <td>142.779999</td>\n",
       "      <td>143.220001</td>\n",
       "      <td>1647500.0</td>\n",
       "    </tr>\n",
       "    <tr>\n",
       "      <th>1643802</th>\n",
       "      <td>ZTS</td>\n",
       "      <td>145.100006</td>\n",
       "      <td>141.850006</td>\n",
       "      <td>143.710007</td>\n",
       "      <td>1541800.0</td>\n",
       "    </tr>\n",
       "    <tr>\n",
       "      <th>1643803</th>\n",
       "      <td>ZTS</td>\n",
       "      <td>145.889999</td>\n",
       "      <td>143.539993</td>\n",
       "      <td>144.509995</td>\n",
       "      <td>1017600.0</td>\n",
       "    </tr>\n",
       "  </tbody>\n",
       "</table>\n",
       "<p>1575307 rows × 5 columns</p>\n",
       "</div>"
      ],
      "text/plain": [
       "        Symbol        High         Low        Open     Volume\n",
       "0          MMM   83.449997   82.669998   83.089996  3043700.0\n",
       "1          MMM   83.230003   81.699997   82.800003  2847000.0\n",
       "2          MMM   84.599998   83.510002   83.879997  5268500.0\n",
       "3          MMM   83.760002   82.120003   83.320000  4470100.0\n",
       "4          MMM   84.320000   83.300003   83.690002  3405800.0\n",
       "...        ...         ...         ...         ...        ...\n",
       "1643799    ZTS  144.440002  142.009995  143.839996  1833700.0\n",
       "1643800    ZTS  143.100006  140.759995  142.710007  2045900.0\n",
       "1643801    ZTS  146.149994  142.779999  143.220001  1647500.0\n",
       "1643802    ZTS  145.100006  141.850006  143.710007  1541800.0\n",
       "1643803    ZTS  145.889999  143.539993  144.509995  1017600.0\n",
       "\n",
       "[1575307 rows x 5 columns]"
      ]
     },
     "metadata": {},
     "output_type": "display_data"
    }
   ],
   "source": [
    "display(data_transformed)"
   ]
  },
  {
   "cell_type": "code",
   "execution_count": 9,
   "id": "e8fa6f97-5049-484d-8c0d-7776e6c9e88b",
   "metadata": {},
   "outputs": [
    {
     "data": {
      "text/plain": [
       "['High', 'Low', 'Open', 'Volume']"
      ]
     },
     "execution_count": 9,
     "metadata": {},
     "output_type": "execute_result"
    }
   ],
   "source": [
    "num_columns"
   ]
  },
  {
   "cell_type": "code",
   "execution_count": 10,
   "id": "df7fd7e3-e8f6-45f3-8322-f4956be3f355",
   "metadata": {},
   "outputs": [
    {
     "data": {
      "text/plain": [
       "['Symbol']"
      ]
     },
     "execution_count": 10,
     "metadata": {},
     "output_type": "execute_result"
    }
   ],
   "source": [
    "categ_columns"
   ]
  },
  {
   "cell_type": "code",
   "execution_count": 11,
   "id": "6a12810c-e77f-4181-9993-dd558c006a6e",
   "metadata": {},
   "outputs": [
    {
     "data": {
      "text/plain": [
       "0.9999250009200128"
      ]
     },
     "execution_count": 11,
     "metadata": {},
     "output_type": "execute_result"
    }
   ],
   "source": [
    "LR_model = make_pipeline(preprocessor, linear_model.LinearRegression())\n",
    "LR_model.fit(data_transformed, target)\n",
    "\n",
    "LR_prediction = LR_model.predict(data_transformed)\n",
    "r2_score(target, LR_prediction)"
   ]
  },
  {
   "cell_type": "code",
   "execution_count": 12,
   "id": "461b25e3-fe92-4d3f-8848-0980cd29fa73",
   "metadata": {},
   "outputs": [
    {
     "data": {
      "text/plain": [
       "0.9920306200095392"
      ]
     },
     "execution_count": 12,
     "metadata": {},
     "output_type": "execute_result"
    }
   ],
   "source": [
    "from sklearn.metrics import d2_absolute_error_score\n",
    "d2_absolute_error_score(target, LR_prediction)"
   ]
  },
  {
   "cell_type": "code",
   "execution_count": 13,
   "id": "daf57cb2-1721-4819-8c49-beb5f75c1fdf",
   "metadata": {},
   "outputs": [
    {
     "data": {
      "text/plain": [
       "0.48775930857864697"
      ]
     },
     "execution_count": 13,
     "metadata": {},
     "output_type": "execute_result"
    }
   ],
   "source": [
    "from sklearn.metrics import mean_absolute_error\n",
    "mean_absolute_error(target, LR_prediction)"
   ]
  },
  {
   "cell_type": "code",
   "execution_count": 14,
   "id": "0a0c091b-7692-4027-b637-906da98c4116",
   "metadata": {},
   "outputs": [
    {
     "data": {
      "text/plain": [
       "<AxesSubplot: >"
      ]
     },
     "execution_count": 14,
     "metadata": {},
     "output_type": "execute_result"
    },
    {
     "data": {
      "image/png": "[encoded data removed]",
      "text/plain": [
       "<Figure size 640x480 with 2 Axes>"
      ]
     },
     "metadata": {},
     "output_type": "display_data"
    }
   ],
   "source": [
    "import seaborn as sn\n",
    "\n",
    "corr_matrix = data.corr(numeric_only = True)\n",
    "sn.heatmap(corr_matrix, annot=True)"
   ]
  },
  {
   "cell_type": "code",
   "execution_count": 28,
   "id": "273f8a22-66be-4ae1-b94d-ab4de260f65d",
   "metadata": {},
   "outputs": [],
   "source": [
    "columns = ['Symbol','High','Low','Open','Volume']"
   ]
  },
  {
   "cell_type": "code",
   "execution_count": 73,
   "id": "0fe67a48-bfe6-4f2d-b414-94f4a261a128",
   "metadata": {},
   "outputs": [
    {
     "name": "stdout",
     "output_type": "stream",
     "text": [
      "81.84423095349955\n"
     ]
    }
   ],
   "source": [
    "inputArray = ['GE',82.46,80.96,81.50,3290000]\n",
    "frame1 = pd.DataFrame([inputArray], columns = columns)\n",
    "\n",
    "prediction1 = LR_model.predict(frame1)\n",
    "print(prediction1[0])"
   ]
  },
  {
   "cell_type": "code",
   "execution_count": null,
   "id": "2d58cf40-27b5-40dd-99d3-e8e9e9f59ae7",
   "metadata": {},
   "outputs": [],
   "source": []
  }
 ],
 "metadata": {
  "kernelspec": {
   "display_name": "Python 3 (ipykernel)",
   "language": "python",
   "name": "python3"
  },
  "language_info": {
   "codemirror_mode": {
    "name": "ipython",
    "version": 3
   },
   "file_extension": ".py",
   "mimetype": "text/x-python",
   "name": "python",
   "nbconvert_exporter": "python",
   "pygments_lexer": "ipython3",
   "version": "3.11.0"
  }
 },
 "nbformat": 4,
 "nbformat_minor": 5
}
